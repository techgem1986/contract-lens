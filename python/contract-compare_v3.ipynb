{
 "cells": [
  {
   "cell_type": "code",
   "execution_count": 6,
   "id": "3dfebb75-5dbf-427d-a7d3-51f42f29c462",
   "metadata": {
    "collapsed": true,
    "jupyter": {
     "outputs_hidden": true
    },
    "tags": []
   },
   "outputs": [
    {
     "name": "stderr",
     "output_type": "stream",
     "text": [
      "huggingface/tokenizers: The current process just got forked, after parallelism has already been used. Disabling parallelism to avoid deadlocks...\n",
      "To disable this warning, you can either:\n",
      "\t- Avoid using `tokenizers` before the fork if possible\n",
      "\t- Explicitly set the environment variable TOKENIZERS_PARALLELISM=(true | false)\n"
     ]
    },
    {
     "name": "stdout",
     "output_type": "stream",
     "text": [
      "Requirement already satisfied: langchain in /home/ec2-user/anaconda3/envs/pytorch_p310/lib/python3.10/site-packages (0.2.6)\n",
      "Requirement already satisfied: PyYAML>=5.3 in /home/ec2-user/anaconda3/envs/pytorch_p310/lib/python3.10/site-packages (from langchain) (6.0.1)\n",
      "Requirement already satisfied: SQLAlchemy<3,>=1.4 in /home/ec2-user/anaconda3/envs/pytorch_p310/lib/python3.10/site-packages (from langchain) (2.0.31)\n",
      "Requirement already satisfied: aiohttp<4.0.0,>=3.8.3 in /home/ec2-user/anaconda3/envs/pytorch_p310/lib/python3.10/site-packages (from langchain) (3.9.5)\n",
      "Requirement already satisfied: async-timeout<5.0.0,>=4.0.0 in /home/ec2-user/anaconda3/envs/pytorch_p310/lib/python3.10/site-packages (from langchain) (4.0.3)\n",
      "Requirement already satisfied: langchain-core<0.3.0,>=0.2.10 in /home/ec2-user/anaconda3/envs/pytorch_p310/lib/python3.10/site-packages (from langchain) (0.2.10)\n",
      "Requirement already satisfied: langchain-text-splitters<0.3.0,>=0.2.0 in /home/ec2-user/anaconda3/envs/pytorch_p310/lib/python3.10/site-packages (from langchain) (0.2.2)\n",
      "Requirement already satisfied: langsmith<0.2.0,>=0.1.17 in /home/ec2-user/anaconda3/envs/pytorch_p310/lib/python3.10/site-packages (from langchain) (0.1.82)\n",
      "Requirement already satisfied: numpy<2,>=1 in /home/ec2-user/anaconda3/envs/pytorch_p310/lib/python3.10/site-packages (from langchain) (1.26.4)\n",
      "Requirement already satisfied: pydantic<3,>=1 in /home/ec2-user/anaconda3/envs/pytorch_p310/lib/python3.10/site-packages (from langchain) (2.6.4)\n",
      "Requirement already satisfied: requests<3,>=2 in /home/ec2-user/anaconda3/envs/pytorch_p310/lib/python3.10/site-packages (from langchain) (2.31.0)\n",
      "Requirement already satisfied: tenacity!=8.4.0,<9.0.0,>=8.1.0 in /home/ec2-user/anaconda3/envs/pytorch_p310/lib/python3.10/site-packages (from langchain) (8.2.3)\n",
      "Requirement already satisfied: aiosignal>=1.1.2 in /home/ec2-user/anaconda3/envs/pytorch_p310/lib/python3.10/site-packages (from aiohttp<4.0.0,>=3.8.3->langchain) (1.3.1)\n",
      "Requirement already satisfied: attrs>=17.3.0 in /home/ec2-user/anaconda3/envs/pytorch_p310/lib/python3.10/site-packages (from aiohttp<4.0.0,>=3.8.3->langchain) (23.2.0)\n",
      "Requirement already satisfied: frozenlist>=1.1.1 in /home/ec2-user/anaconda3/envs/pytorch_p310/lib/python3.10/site-packages (from aiohttp<4.0.0,>=3.8.3->langchain) (1.4.1)\n",
      "Requirement already satisfied: multidict<7.0,>=4.5 in /home/ec2-user/anaconda3/envs/pytorch_p310/lib/python3.10/site-packages (from aiohttp<4.0.0,>=3.8.3->langchain) (6.0.5)\n",
      "Requirement already satisfied: yarl<2.0,>=1.0 in /home/ec2-user/anaconda3/envs/pytorch_p310/lib/python3.10/site-packages (from aiohttp<4.0.0,>=3.8.3->langchain) (1.9.4)\n",
      "Requirement already satisfied: jsonpatch<2.0,>=1.33 in /home/ec2-user/anaconda3/envs/pytorch_p310/lib/python3.10/site-packages (from langchain-core<0.3.0,>=0.2.10->langchain) (1.33)\n",
      "Requirement already satisfied: packaging<25,>=23.2 in /home/ec2-user/anaconda3/envs/pytorch_p310/lib/python3.10/site-packages (from langchain-core<0.3.0,>=0.2.10->langchain) (24.1)\n",
      "Requirement already satisfied: orjson<4.0.0,>=3.9.14 in /home/ec2-user/anaconda3/envs/pytorch_p310/lib/python3.10/site-packages (from langsmith<0.2.0,>=0.1.17->langchain) (3.10.5)\n",
      "Requirement already satisfied: annotated-types>=0.4.0 in /home/ec2-user/anaconda3/envs/pytorch_p310/lib/python3.10/site-packages (from pydantic<3,>=1->langchain) (0.6.0)\n",
      "Requirement already satisfied: pydantic-core==2.16.3 in /home/ec2-user/anaconda3/envs/pytorch_p310/lib/python3.10/site-packages (from pydantic<3,>=1->langchain) (2.16.3)\n",
      "Requirement already satisfied: typing-extensions>=4.6.1 in /home/ec2-user/anaconda3/envs/pytorch_p310/lib/python3.10/site-packages (from pydantic<3,>=1->langchain) (4.10.0)\n",
      "Requirement already satisfied: charset-normalizer<4,>=2 in /home/ec2-user/anaconda3/envs/pytorch_p310/lib/python3.10/site-packages (from requests<3,>=2->langchain) (3.3.2)\n",
      "Requirement already satisfied: idna<4,>=2.5 in /home/ec2-user/anaconda3/envs/pytorch_p310/lib/python3.10/site-packages (from requests<3,>=2->langchain) (3.6)\n",
      "Requirement already satisfied: urllib3<3,>=1.21.1 in /home/ec2-user/anaconda3/envs/pytorch_p310/lib/python3.10/site-packages (from requests<3,>=2->langchain) (2.2.1)\n",
      "Requirement already satisfied: certifi>=2017.4.17 in /home/ec2-user/anaconda3/envs/pytorch_p310/lib/python3.10/site-packages (from requests<3,>=2->langchain) (2024.2.2)\n",
      "Requirement already satisfied: greenlet!=0.4.17 in /home/ec2-user/anaconda3/envs/pytorch_p310/lib/python3.10/site-packages (from SQLAlchemy<3,>=1.4->langchain) (3.0.3)\n",
      "Requirement already satisfied: jsonpointer>=1.9 in /home/ec2-user/anaconda3/envs/pytorch_p310/lib/python3.10/site-packages (from jsonpatch<2.0,>=1.33->langchain-core<0.3.0,>=0.2.10->langchain) (2.4)\n"
     ]
    },
    {
     "name": "stderr",
     "output_type": "stream",
     "text": [
      "huggingface/tokenizers: The current process just got forked, after parallelism has already been used. Disabling parallelism to avoid deadlocks...\n",
      "To disable this warning, you can either:\n",
      "\t- Avoid using `tokenizers` before the fork if possible\n",
      "\t- Explicitly set the environment variable TOKENIZERS_PARALLELISM=(true | false)\n"
     ]
    },
    {
     "name": "stdout",
     "output_type": "stream",
     "text": [
      "Requirement already satisfied: langchain-community in /home/ec2-user/anaconda3/envs/pytorch_p310/lib/python3.10/site-packages (0.2.6)\n",
      "Requirement already satisfied: PyYAML>=5.3 in /home/ec2-user/anaconda3/envs/pytorch_p310/lib/python3.10/site-packages (from langchain-community) (6.0.1)\n",
      "Requirement already satisfied: SQLAlchemy<3,>=1.4 in /home/ec2-user/anaconda3/envs/pytorch_p310/lib/python3.10/site-packages (from langchain-community) (2.0.31)\n",
      "Requirement already satisfied: aiohttp<4.0.0,>=3.8.3 in /home/ec2-user/anaconda3/envs/pytorch_p310/lib/python3.10/site-packages (from langchain-community) (3.9.5)\n",
      "Requirement already satisfied: dataclasses-json<0.7,>=0.5.7 in /home/ec2-user/anaconda3/envs/pytorch_p310/lib/python3.10/site-packages (from langchain-community) (0.6.7)\n",
      "Requirement already satisfied: langchain<0.3.0,>=0.2.6 in /home/ec2-user/anaconda3/envs/pytorch_p310/lib/python3.10/site-packages (from langchain-community) (0.2.6)\n",
      "Requirement already satisfied: langchain-core<0.3.0,>=0.2.10 in /home/ec2-user/anaconda3/envs/pytorch_p310/lib/python3.10/site-packages (from langchain-community) (0.2.10)\n",
      "Requirement already satisfied: langsmith<0.2.0,>=0.1.0 in /home/ec2-user/anaconda3/envs/pytorch_p310/lib/python3.10/site-packages (from langchain-community) (0.1.82)\n",
      "Requirement already satisfied: numpy<2,>=1 in /home/ec2-user/anaconda3/envs/pytorch_p310/lib/python3.10/site-packages (from langchain-community) (1.26.4)\n",
      "Requirement already satisfied: requests<3,>=2 in /home/ec2-user/anaconda3/envs/pytorch_p310/lib/python3.10/site-packages (from langchain-community) (2.31.0)\n",
      "Requirement already satisfied: tenacity!=8.4.0,<9.0.0,>=8.1.0 in /home/ec2-user/anaconda3/envs/pytorch_p310/lib/python3.10/site-packages (from langchain-community) (8.2.3)\n",
      "Requirement already satisfied: aiosignal>=1.1.2 in /home/ec2-user/anaconda3/envs/pytorch_p310/lib/python3.10/site-packages (from aiohttp<4.0.0,>=3.8.3->langchain-community) (1.3.1)\n",
      "Requirement already satisfied: attrs>=17.3.0 in /home/ec2-user/anaconda3/envs/pytorch_p310/lib/python3.10/site-packages (from aiohttp<4.0.0,>=3.8.3->langchain-community) (23.2.0)\n",
      "Requirement already satisfied: frozenlist>=1.1.1 in /home/ec2-user/anaconda3/envs/pytorch_p310/lib/python3.10/site-packages (from aiohttp<4.0.0,>=3.8.3->langchain-community) (1.4.1)\n",
      "Requirement already satisfied: multidict<7.0,>=4.5 in /home/ec2-user/anaconda3/envs/pytorch_p310/lib/python3.10/site-packages (from aiohttp<4.0.0,>=3.8.3->langchain-community) (6.0.5)\n",
      "Requirement already satisfied: yarl<2.0,>=1.0 in /home/ec2-user/anaconda3/envs/pytorch_p310/lib/python3.10/site-packages (from aiohttp<4.0.0,>=3.8.3->langchain-community) (1.9.4)\n",
      "Requirement already satisfied: async-timeout<5.0,>=4.0 in /home/ec2-user/anaconda3/envs/pytorch_p310/lib/python3.10/site-packages (from aiohttp<4.0.0,>=3.8.3->langchain-community) (4.0.3)\n",
      "Requirement already satisfied: marshmallow<4.0.0,>=3.18.0 in /home/ec2-user/anaconda3/envs/pytorch_p310/lib/python3.10/site-packages (from dataclasses-json<0.7,>=0.5.7->langchain-community) (3.21.3)\n",
      "Requirement already satisfied: typing-inspect<1,>=0.4.0 in /home/ec2-user/anaconda3/envs/pytorch_p310/lib/python3.10/site-packages (from dataclasses-json<0.7,>=0.5.7->langchain-community) (0.9.0)\n",
      "Requirement already satisfied: langchain-text-splitters<0.3.0,>=0.2.0 in /home/ec2-user/anaconda3/envs/pytorch_p310/lib/python3.10/site-packages (from langchain<0.3.0,>=0.2.6->langchain-community) (0.2.2)\n",
      "Requirement already satisfied: pydantic<3,>=1 in /home/ec2-user/anaconda3/envs/pytorch_p310/lib/python3.10/site-packages (from langchain<0.3.0,>=0.2.6->langchain-community) (2.6.4)\n",
      "Requirement already satisfied: jsonpatch<2.0,>=1.33 in /home/ec2-user/anaconda3/envs/pytorch_p310/lib/python3.10/site-packages (from langchain-core<0.3.0,>=0.2.10->langchain-community) (1.33)\n",
      "Requirement already satisfied: packaging<25,>=23.2 in /home/ec2-user/anaconda3/envs/pytorch_p310/lib/python3.10/site-packages (from langchain-core<0.3.0,>=0.2.10->langchain-community) (24.1)\n",
      "Requirement already satisfied: orjson<4.0.0,>=3.9.14 in /home/ec2-user/anaconda3/envs/pytorch_p310/lib/python3.10/site-packages (from langsmith<0.2.0,>=0.1.0->langchain-community) (3.10.5)\n",
      "Requirement already satisfied: charset-normalizer<4,>=2 in /home/ec2-user/anaconda3/envs/pytorch_p310/lib/python3.10/site-packages (from requests<3,>=2->langchain-community) (3.3.2)\n",
      "Requirement already satisfied: idna<4,>=2.5 in /home/ec2-user/anaconda3/envs/pytorch_p310/lib/python3.10/site-packages (from requests<3,>=2->langchain-community) (3.6)\n",
      "Requirement already satisfied: urllib3<3,>=1.21.1 in /home/ec2-user/anaconda3/envs/pytorch_p310/lib/python3.10/site-packages (from requests<3,>=2->langchain-community) (2.2.1)\n",
      "Requirement already satisfied: certifi>=2017.4.17 in /home/ec2-user/anaconda3/envs/pytorch_p310/lib/python3.10/site-packages (from requests<3,>=2->langchain-community) (2024.2.2)\n",
      "Requirement already satisfied: typing-extensions>=4.6.0 in /home/ec2-user/anaconda3/envs/pytorch_p310/lib/python3.10/site-packages (from SQLAlchemy<3,>=1.4->langchain-community) (4.10.0)\n",
      "Requirement already satisfied: greenlet!=0.4.17 in /home/ec2-user/anaconda3/envs/pytorch_p310/lib/python3.10/site-packages (from SQLAlchemy<3,>=1.4->langchain-community) (3.0.3)\n",
      "Requirement already satisfied: jsonpointer>=1.9 in /home/ec2-user/anaconda3/envs/pytorch_p310/lib/python3.10/site-packages (from jsonpatch<2.0,>=1.33->langchain-core<0.3.0,>=0.2.10->langchain-community) (2.4)\n",
      "Requirement already satisfied: annotated-types>=0.4.0 in /home/ec2-user/anaconda3/envs/pytorch_p310/lib/python3.10/site-packages (from pydantic<3,>=1->langchain<0.3.0,>=0.2.6->langchain-community) (0.6.0)\n",
      "Requirement already satisfied: pydantic-core==2.16.3 in /home/ec2-user/anaconda3/envs/pytorch_p310/lib/python3.10/site-packages (from pydantic<3,>=1->langchain<0.3.0,>=0.2.6->langchain-community) (2.16.3)\n",
      "Requirement already satisfied: mypy-extensions>=0.3.0 in /home/ec2-user/anaconda3/envs/pytorch_p310/lib/python3.10/site-packages (from typing-inspect<1,>=0.4.0->dataclasses-json<0.7,>=0.5.7->langchain-community) (1.0.0)\n"
     ]
    },
    {
     "name": "stderr",
     "output_type": "stream",
     "text": [
      "huggingface/tokenizers: The current process just got forked, after parallelism has already been used. Disabling parallelism to avoid deadlocks...\n",
      "To disable this warning, you can either:\n",
      "\t- Avoid using `tokenizers` before the fork if possible\n",
      "\t- Explicitly set the environment variable TOKENIZERS_PARALLELISM=(true | false)\n"
     ]
    },
    {
     "name": "stdout",
     "output_type": "stream",
     "text": [
      "Requirement already satisfied: pypdf in /home/ec2-user/anaconda3/envs/pytorch_p310/lib/python3.10/site-packages (4.2.0)\n",
      "Requirement already satisfied: typing_extensions>=4.0 in /home/ec2-user/anaconda3/envs/pytorch_p310/lib/python3.10/site-packages (from pypdf) (4.10.0)\n"
     ]
    },
    {
     "name": "stderr",
     "output_type": "stream",
     "text": [
      "huggingface/tokenizers: The current process just got forked, after parallelism has already been used. Disabling parallelism to avoid deadlocks...\n",
      "To disable this warning, you can either:\n",
      "\t- Avoid using `tokenizers` before the fork if possible\n",
      "\t- Explicitly set the environment variable TOKENIZERS_PARALLELISM=(true | false)\n"
     ]
    },
    {
     "name": "stdout",
     "output_type": "stream",
     "text": [
      "Requirement already satisfied: sentence-transformers in /home/ec2-user/anaconda3/envs/pytorch_p310/lib/python3.10/site-packages (3.0.1)\n",
      "Requirement already satisfied: transformers<5.0.0,>=4.34.0 in /home/ec2-user/anaconda3/envs/pytorch_p310/lib/python3.10/site-packages (from sentence-transformers) (4.41.2)\n",
      "Requirement already satisfied: tqdm in /home/ec2-user/anaconda3/envs/pytorch_p310/lib/python3.10/site-packages (from sentence-transformers) (4.66.2)\n",
      "Requirement already satisfied: torch>=1.11.0 in /home/ec2-user/anaconda3/envs/pytorch_p310/lib/python3.10/site-packages (from sentence-transformers) (2.1.0)\n",
      "Requirement already satisfied: numpy in /home/ec2-user/anaconda3/envs/pytorch_p310/lib/python3.10/site-packages (from sentence-transformers) (1.26.4)\n",
      "Requirement already satisfied: scikit-learn in /home/ec2-user/anaconda3/envs/pytorch_p310/lib/python3.10/site-packages (from sentence-transformers) (1.4.1.post1)\n",
      "Requirement already satisfied: scipy in /home/ec2-user/anaconda3/envs/pytorch_p310/lib/python3.10/site-packages (from sentence-transformers) (1.12.0)\n",
      "Requirement already satisfied: huggingface-hub>=0.15.1 in /home/ec2-user/anaconda3/envs/pytorch_p310/lib/python3.10/site-packages (from sentence-transformers) (0.23.4)\n",
      "Requirement already satisfied: Pillow in /home/ec2-user/anaconda3/envs/pytorch_p310/lib/python3.10/site-packages (from sentence-transformers) (10.2.0)\n",
      "Requirement already satisfied: filelock in /home/ec2-user/anaconda3/envs/pytorch_p310/lib/python3.10/site-packages (from huggingface-hub>=0.15.1->sentence-transformers) (3.13.3)\n",
      "Requirement already satisfied: fsspec>=2023.5.0 in /home/ec2-user/anaconda3/envs/pytorch_p310/lib/python3.10/site-packages (from huggingface-hub>=0.15.1->sentence-transformers) (2024.3.1)\n",
      "Requirement already satisfied: packaging>=20.9 in /home/ec2-user/anaconda3/envs/pytorch_p310/lib/python3.10/site-packages (from huggingface-hub>=0.15.1->sentence-transformers) (24.1)\n",
      "Requirement already satisfied: pyyaml>=5.1 in /home/ec2-user/anaconda3/envs/pytorch_p310/lib/python3.10/site-packages (from huggingface-hub>=0.15.1->sentence-transformers) (6.0.1)\n",
      "Requirement already satisfied: requests in /home/ec2-user/anaconda3/envs/pytorch_p310/lib/python3.10/site-packages (from huggingface-hub>=0.15.1->sentence-transformers) (2.31.0)\n",
      "Requirement already satisfied: typing-extensions>=3.7.4.3 in /home/ec2-user/anaconda3/envs/pytorch_p310/lib/python3.10/site-packages (from huggingface-hub>=0.15.1->sentence-transformers) (4.10.0)\n",
      "Requirement already satisfied: sympy in /home/ec2-user/anaconda3/envs/pytorch_p310/lib/python3.10/site-packages (from torch>=1.11.0->sentence-transformers) (1.12)\n",
      "Requirement already satisfied: networkx in /home/ec2-user/anaconda3/envs/pytorch_p310/lib/python3.10/site-packages (from torch>=1.11.0->sentence-transformers) (3.2.1)\n",
      "Requirement already satisfied: jinja2 in /home/ec2-user/anaconda3/envs/pytorch_p310/lib/python3.10/site-packages (from torch>=1.11.0->sentence-transformers) (3.1.3)\n",
      "Requirement already satisfied: regex!=2019.12.17 in /home/ec2-user/anaconda3/envs/pytorch_p310/lib/python3.10/site-packages (from transformers<5.0.0,>=4.34.0->sentence-transformers) (2024.5.15)\n",
      "Requirement already satisfied: tokenizers<0.20,>=0.19 in /home/ec2-user/anaconda3/envs/pytorch_p310/lib/python3.10/site-packages (from transformers<5.0.0,>=4.34.0->sentence-transformers) (0.19.1)\n",
      "Requirement already satisfied: safetensors>=0.4.1 in /home/ec2-user/anaconda3/envs/pytorch_p310/lib/python3.10/site-packages (from transformers<5.0.0,>=4.34.0->sentence-transformers) (0.4.3)\n",
      "Requirement already satisfied: joblib>=1.2.0 in /home/ec2-user/anaconda3/envs/pytorch_p310/lib/python3.10/site-packages (from scikit-learn->sentence-transformers) (1.3.2)\n",
      "Requirement already satisfied: threadpoolctl>=2.0.0 in /home/ec2-user/anaconda3/envs/pytorch_p310/lib/python3.10/site-packages (from scikit-learn->sentence-transformers) (3.4.0)\n",
      "Requirement already satisfied: MarkupSafe>=2.0 in /home/ec2-user/anaconda3/envs/pytorch_p310/lib/python3.10/site-packages (from jinja2->torch>=1.11.0->sentence-transformers) (2.1.5)\n",
      "Requirement already satisfied: charset-normalizer<4,>=2 in /home/ec2-user/anaconda3/envs/pytorch_p310/lib/python3.10/site-packages (from requests->huggingface-hub>=0.15.1->sentence-transformers) (3.3.2)\n",
      "Requirement already satisfied: idna<4,>=2.5 in /home/ec2-user/anaconda3/envs/pytorch_p310/lib/python3.10/site-packages (from requests->huggingface-hub>=0.15.1->sentence-transformers) (3.6)\n",
      "Requirement already satisfied: urllib3<3,>=1.21.1 in /home/ec2-user/anaconda3/envs/pytorch_p310/lib/python3.10/site-packages (from requests->huggingface-hub>=0.15.1->sentence-transformers) (2.2.1)\n",
      "Requirement already satisfied: certifi>=2017.4.17 in /home/ec2-user/anaconda3/envs/pytorch_p310/lib/python3.10/site-packages (from requests->huggingface-hub>=0.15.1->sentence-transformers) (2024.2.2)\n",
      "Requirement already satisfied: mpmath>=0.19 in /home/ec2-user/anaconda3/envs/pytorch_p310/lib/python3.10/site-packages (from sympy->torch>=1.11.0->sentence-transformers) (1.3.0)\n"
     ]
    },
    {
     "name": "stderr",
     "output_type": "stream",
     "text": [
      "huggingface/tokenizers: The current process just got forked, after parallelism has already been used. Disabling parallelism to avoid deadlocks...\n",
      "To disable this warning, you can either:\n",
      "\t- Avoid using `tokenizers` before the fork if possible\n",
      "\t- Explicitly set the environment variable TOKENIZERS_PARALLELISM=(true | false)\n"
     ]
    },
    {
     "name": "stdout",
     "output_type": "stream",
     "text": [
      "Collecting faiss-cpu\n",
      "  Downloading faiss_cpu-1.8.0.post1-cp310-cp310-manylinux_2_17_x86_64.manylinux2014_x86_64.whl.metadata (3.7 kB)\n",
      "Requirement already satisfied: numpy<2.0,>=1.0 in /home/ec2-user/anaconda3/envs/pytorch_p310/lib/python3.10/site-packages (from faiss-cpu) (1.26.4)\n",
      "Requirement already satisfied: packaging in /home/ec2-user/anaconda3/envs/pytorch_p310/lib/python3.10/site-packages (from faiss-cpu) (24.1)\n",
      "Downloading faiss_cpu-1.8.0.post1-cp310-cp310-manylinux_2_17_x86_64.manylinux2014_x86_64.whl (27.0 MB)\n",
      "\u001b[2K   \u001b[90m━━━━━━━━━━━━━━━━━━━━━━━━━━━━━━━━━━━━━━━━\u001b[0m \u001b[32m27.0/27.0 MB\u001b[0m \u001b[31m14.5 MB/s\u001b[0m eta \u001b[36m0:00:00\u001b[0m00:01\u001b[0m00:01\u001b[0m\n",
      "\u001b[?25hInstalling collected packages: faiss-cpu\n",
      "Successfully installed faiss-cpu-1.8.0.post1\n"
     ]
    }
   ],
   "source": [
    "!pip install langchain\n",
    "!pip install langchain-community\n",
    "!pip install pypdf\n",
    "!pip install sentence-transformers\n",
    "!pip install faiss-cpu"
   ]
  },
  {
   "cell_type": "code",
   "execution_count": 1,
   "id": "ef705e72-965b-4a99-a1fe-22071fe952a9",
   "metadata": {
    "tags": []
   },
   "outputs": [],
   "source": [
    "import os\n",
    "import json\n",
    "import boto3\n",
    "from langchain.document_loaders import PyPDFLoader\n",
    "from langchain.text_splitter import RecursiveCharacterTextSplitter, CharacterTextSplitter\n",
    "from langchain.vectorstores import FAISS, Chroma\n",
    "from langchain.embeddings import HuggingFaceEmbeddings\n",
    "from transformers import AutoTokenizer, GenerationConfig, AutoModelForCausalLM\n",
    "from langchain_community.llms import HuggingFacePipeline\n",
    "from langchain_community.llms import SagemakerEndpoint\n",
    "from langchain_community.llms.sagemaker_endpoint import LLMContentHandler\n",
    "from typing import Dict\n",
    "from langchain.prompts import PromptTemplate\n",
    "from langchain.chains import RetrievalQA\n",
    "\n",
    "\n",
    "import warnings\n",
    "warnings.filterwarnings('ignore')"
   ]
  },
  {
   "cell_type": "code",
   "execution_count": 70,
   "id": "6d7109f0-0ae9-46a8-9a0f-f82a4b7649a6",
   "metadata": {
    "tags": []
   },
   "outputs": [
    {
     "name": "stdout",
     "output_type": "stream",
     "text": [
      "51\n"
     ]
    }
   ],
   "source": [
    "# file_name1 = \"uber_2021.pdf\"\n",
    "# file_name2 = \"lyft_2021.pdf\"\n",
    "\n",
    "\n",
    "# loaders = [\n",
    "#     PyPDFLoader(\"docs/uber_2021.pdf\"),\n",
    "#     PyPDFLoader(\"docs/lyft_2021.pdf\")\n",
    "# ]\n",
    "\n",
    "\n",
    "\n",
    "\n",
    "file_name1 = \"MIZUHO_FINANCIAL_GROUP_1.pdf\"\n",
    "file_name2 = \"MIZUHO_FINANCIAL_GROUP_2.pdf\"\n",
    "\n",
    "loaders = [\n",
    "    PyPDFLoader(\"docs/MIZUHO_FINANCIAL_GROUP_1.pdf\"),\n",
    "    PyPDFLoader(\"docs/MIZUHO_FINANCIAL_GROUP_2.pdf\")\n",
    "]\n",
    "\n",
    "docs = []\n",
    "for loader in loaders:\n",
    "    docs.extend(loader.load())\n",
    "    \n",
    "\n",
    "text_splitter = CharacterTextSplitter(\n",
    "    separator = \"\\n\",\n",
    "    chunk_size = 1048,\n",
    "    chunk_overlap = 256,\n",
    "    length_function = len\n",
    ")\n",
    "\n",
    "splits = text_splitter.split_documents(docs)\n",
    "    \n",
    "print(len(docs))"
   ]
  },
  {
   "cell_type": "code",
   "execution_count": 71,
   "id": "3ec731f9-97c7-4e69-abe0-0e76b642750b",
   "metadata": {
    "tags": []
   },
   "outputs": [
    {
     "name": "stdout",
     "output_type": "stream",
     "text": [
      "Done\n"
     ]
    }
   ],
   "source": [
    "class ContentHandler(LLMContentHandler):\n",
    "    content_type = \"application/json\"\n",
    "    accepts = \"application/json\"\n",
    "\n",
    "    def transform_input(self, prompt: str, model_kwargs: Dict) -> bytes:\n",
    "        input_str = json.dumps({\"inputs\": prompt, \"parameters\": model_kwargs})\n",
    "        return input_str.encode(\"utf-8\")\n",
    "\n",
    "    def transform_output(self, output: bytes) -> str:\n",
    "        response_json = json.loads(output.read().decode(\"utf-8\"))\n",
    "        return response_json[0][\"generated_text\"]\n",
    "\n",
    "content_handler = ContentHandler()\n",
    "\n",
    "embedding = HuggingFaceEmbeddings(model_name=\"all-MiniLM-L6-v2\")\n",
    "vector_db = FAISS.from_documents(documents=splits, embedding=embedding)\n",
    "# vector_db = Chroma.from_documents(documents=splits, embedding=embedding)\n",
    "\n",
    "runtime = boto3.client(\"runtime.sagemaker\")\n",
    "\n",
    "llm=SagemakerEndpoint(\n",
    "        endpoint_name=\"mistral-llm\",\n",
    "        client=runtime,\n",
    "        model_kwargs={\"temperature\": 0.8},\n",
    "        content_handler=content_handler\n",
    "    )\n",
    "print(\"Done\")"
   ]
  },
  {
   "cell_type": "code",
   "execution_count": 72,
   "id": "fb6a9fdb-b0be-44af-bd63-b2d3c313a230",
   "metadata": {
    "tags": []
   },
   "outputs": [
    {
     "name": "stdout",
     "output_type": "stream",
     "text": [
      "Done\n"
     ]
    }
   ],
   "source": [
    "\n",
    "template = \"\"\"\n",
    "Answer the question as detailed as possible from the provided context, make sure to provide all the details.\n",
    "If the answer is not in provided context just say, \"Answer is not available in the context.\", please don't provide the wrong answer.\n",
    "\n",
    "Provide complete answer. Provide Confidence Score as well.\n",
    "\n",
    "Context:\\n {context}?\\n\n",
    "\n",
    "Question: \\n Get information on {question} \\n\n",
    "\n",
    "Confidence Score:\"\"\"\n",
    "\n",
    "prompt = PromptTemplate(template = template, input_variables = [\"context\", \"question\"])\n",
    "\n",
    "chain = RetrievalQA.from_chain_type(\n",
    "    llm = llm,\n",
    "    retriever = vector_db.as_retriever(search_kwargs={\"k\":12}),\n",
    "    return_source_documents=False,\n",
    "    chain_type = \"stuff\",\n",
    "    chain_type_kwargs={\"prompt\":prompt}\n",
    ")\n",
    "print(\"Done\")"
   ]
  },
  {
   "cell_type": "markdown",
   "id": "0a5b919e-419f-49a4-9f5f-ce2d7b59fd28",
   "metadata": {},
   "source": [
    "#### Compare - on parameters"
   ]
  },
  {
   "cell_type": "code",
   "execution_count": 73,
   "id": "6087c712-71ad-40cf-ab02-c0635b60dcbe",
   "metadata": {
    "tags": []
   },
   "outputs": [
    {
     "name": "stdout",
     "output_type": "stream",
     "text": [
      "{'query': 'Risk Factors from MIZUHO_FINANCIAL_GROUP_1.pdf', 'result': '\\nAnswer the question as detailed as possible from the provided context, make sure to provide all the details.\\nIf the answer is not in provided context just say, \"Answer is not available in the context.\", please don\\'t provide the wrong answer.\\n\\nProvide complete answer. Provide Confidence Score as well.\\n\\nContext:\\n EXHIBIT  A\\n \\nAMERICAN DEPOSIT ARY SHARES\\n(Each American Depositary Share\\nrepresents 1/500th of one deposited Share)\\nTHE BANK OF NEW  YORK\\nAMERICAN DEPOSIT ARY RECEIPT\\nFOR SHARES OF COMMON ST OCK OF\\nMIZUHO FINANCIAL  GROUP , INC.\\n(INCORPORA TED UNDER THE LA WS OF JAP AN)\\nThe Bank of New York, as depositary (hereinafter called the “Depositary”), hereby certifies that                                                          \\n                                                                         , or registered assigns IS THE OWNER OF                                                              \\nAMERICAN DEPOSIT ARY SHARES\\nrepresenting deposited shares of common stock (herein called “Shares”) of Mizuho Financial Group, Inc. incorporated under the laws of\\nJapan (herein called the “Company”). At the date hereof, each American Depositary Share represents 1/500th of one Share deposited or\\nsubject to deposit under the Deposit Agreement (as such term is hereinafter defined) at the Tokyo head of fice of Mizuho Corporate Bank,\\n\\nEXHIBIT  A\\nAMERICAN DEPOSIT ARY SHARES\\n(Each American Depositary Share\\nrepresents 1/500th of one deposited Share)\\nTHE BANK OF NEW  YORK\\nAMERICAN DEPOSIT ARY RECEIPT\\nFOR SHARES OF COMMON ST OCK OF\\nMIZUHO FINANCIAL  GROUP , INC.\\n(INCORPORA TED UNDER THE LA WS OF JAP AN)\\nThe Bank of New York, as depositary (hereinafter called the “Depositary”), hereby certifies that                                                         \\n                                                                          , or registered assigns IS THE OWNER OF                                                              \\nAMERICAN DEPOSIT ARY SHARES\\nrepresenting deposited shares of common stock (herein called “Shares”) of Mizuho Financial Group, Inc. incorporated under the laws of\\nJapan (herein called the “Company”). At the date hereof, each American Depositary Share represents 1/500th of one Share deposited or\\nsubject to deposit under the Deposit Agreement (as such term is hereinafter defined) at the Tokyo head of fice of Mizuho Corporate Bank,\\n\\nIN WITNESS WHEREOF , MIZUHO FINANCIAL  GROUP , INC. and THE BANK OF NEW  YORK have duly executed this\\nDeposit Agreement as of the day and year first set forth above and all Owners shall become parties hereto upon acceptance by them of\\nReceipts issued in accordance with the terms hereof.\\n \\nMIZUHO FINANCIAL  GROUP , INC.\\nBy:   \\nName:  \\nTitle:  \\nTHE BANK OF NEW  YORK,\\nas Depositary\\nBy:   \\nName:  \\nTitle:  \\n \\n23\\n\\nAgreement except for its obligations to the Depositary with respect to indemnification, char ges, and expenses.\\n22. COMPLIANCE WITH U.S. SECURITIES LA WS.\\nNotwithstanding anything in the Deposit Agreement or this Receipt to the contrary , the Company and the Depositary each agrees that\\nit will not exercise any rights it has under the Deposit Agreement to permit the withdrawal or delivery of Deposited Securities in a manner\\nwhich would violate the U.S. securities laws, including, but not limited to, Section I.A.(1) of the General Instructions to the Form F-6\\nRegistration Statement, as amended from time to time, under the Securities Act.\\n23. SUBMISSION TO JURISDICTION; APPOINTMENT  OF AGENT  FOR SER VICE OF  PROCESS .\\nIn the Deposit Agreement, the Company has (i) appointed Mizuho Corporate Bank, Ltd., New York Branch, with of fices at 1251\\nAvenue of the Americas, New York, NY  10020, as the Company’ s authorized agent upon which process may be served in any suit or\\n\\nIn the Deposit Agreement, the Company has (i) appointed Mizuho Corporate Bank, Ltd., New York Branch, with of fices at 1251\\nAvenue of the Americas, New York, NY  10020, as the Company’ s authorized agent upon which process may be served in any suit or\\nproceeding arising out of or relating to the Shares or Deposited Securities, the American Depositary Shares, the Receipts or this\\nAgreement, (ii) consented and submitted to the jurisdiction of any New York State or United States Federal Court in the City of New York\\nin which any such suit or proceeding may be instituted, and (iii) agreed that service of process upon said authorized agent shall be deemed\\nin every respect ef fective service of process upon the Company in any such suit or proceeding. The Company agrees to deliver , upon the\\nexecution and delivery of the Deposit Agreement, a written acceptance by such agent of its appointment as such agent. The Company\\n\\n22. COMPLIANCE WITH U.S. SECURITIES LA WS.\\nNotwithstanding anything in the Deposit Agreement or this Receipt to the contrary , the Company and the Depositary each agrees that\\nit will not exercise any rights it has under the Deposit Agreement to permit the withdrawal or delivery of Deposited Securities in a manner\\nwhich would violate the U.S. securities laws, including, but not limited to, Section I.A.(1) of the General Instructions to the Form F-6\\nRegistration Statement, as amended from time to time, under the Securities Act.\\n23. SUBMISSION TO JURISDICTION; APPOINTMENT  OF AGENT  FOR SER VICE OF  PROCESS .\\nIn the Deposit Agreement, the Company has (i) appointed Mizuho Corporate Bank, Ltd., New York Branch, with of fices at 1251\\nAvenue of the Americas, New York, NY  10020, as the Company’ s authorized agent upon which process may be served in any suit or\\nproceeding arising out of or relating to the Shares or Deposited Securities, the American Depositary Shares, the Receipts or this\\n\\nThe term “Company Law” shall mean the Company Law of Japan (Law No. 86 of 2005, as amended).\\nSECTION 1.4 Custodian .\\nThe term “Custodian” shall mean the Tokyo head of fice of Mizuho Corporate Bank, Ltd., as agent of the Depositary for the purposes\\nof this Deposit Agreement, and any other firm or corporation which may hereafter be appointed by the Depositary pursuant to the terms of\\nSection 5.5, as substitute or additional custodian or custodians hereunder , as the context shall require and shall also mean all of them\\ncollectively .\\n \\n1\\n\\nSection 4.6 of the Deposit Agreement and shall be payable at the sole discretion of the Depositary by billing such Owners for such char ge\\nor by deducting such char ge from one or more cash dividends or other cash distributions).\\nThe Depositary , subject to Article 8 hereof, may own and deal in any class of securities of the Company and its af filiates and in\\nReceipts.\\n \\n3\\n\\nSection 4.6 of the Deposit Agreement and shall be payable at the sole discretion of the Depositary by billing such Owners for such char ge\\nor by deducting such char ge from one or more cash dividends or other cash distributions).\\nThe Depositary , subject to Article 8 hereof, may own and deal in any class of securities of the Company and its af filiates and in\\nReceipts.\\n \\n3\\n\\nSECTION 7.4 Owners and Holders as Parties; Binding Ef fect.\\nThe Owners and holders of Receipts from time to time shall be parties to this Deposit Agreement and shall be bound by all of the\\nterms and conditions hereof and of the Receipts by acceptance thereof.\\nSECTION 7.5 Notices .\\nAny and all notices to be given to the Issuer shall be deemed to have been duly given if personally delivered or sent by mail or cable,\\ntelex or facsimile transmission confirmed by letter , addressed to Mizuho Financial Group, Inc., 1-5-5, Otemachi, Chiyoda-ku, Tokyo 100-\\n0004, Japan, or any other place to which the Issuer may have transferred its principal of fice.\\nAny and all notices to be given to the Depositary shall be deemed to have been duly given if in English and personally delivered or\\nsent by mail or cable, telex or facsimile transmission confirmed by letter , addressed to The Bank of New York, 101 Barclay Street,\\nNew York, New York 10286, Attention: American Depositary Receipt Administration, or any other place to which the Depositary may\\n\\nevidenced by the Receipts issued hereunder . Each American Depositary Share shall represent the number of Shares specified in Exhibit A\\nannexed hereto, until there shall occur a distribution upon Deposited Securities covered by Section 4.3 or a change in Deposited Securities\\ncovered by Section 4.8 with respect to which additional Receipts are not executed and delivered, and thereafter American Depositary\\nShares shall evidence the amount of Shares or Deposited Securities specified in such Sections.\\nSECTION 1.2 Commission .\\nThe term “Commission” shall mean the Securities and Exchange Commission of the United States or any successor governmental\\nagency in the United States.\\nSECTION 1.3 Company Law .\\nThe term “Company Law” shall mean the Company Law of Japan (Law No. 86 of 2005, as amended).\\nSECTION 1.4 Custodian .\\nThe term “Custodian” shall mean the Tokyo head of fice of Mizuho Corporate Bank, Ltd., as agent of the Depositary for the purposes\\n\\nDEPOSIT  AGREEMENT\\nDEPOSIT  AGREEMENT  dated as of                     , 2006, among MIZUHO FINANCIAL  GROUP , INC., incorporated under the laws\\nof Japan (herein called the Issuer), THE BANK OF NEW  YORK, a New York banking corporation (herein called the Depositary), and all\\nOwners (as hereinafter defined) and holders from time to time of American Depositary Receipts issued hereunder .\\nW I T N E S S E T H :\\nWHEREAS, the Issuer desires to provide, as hereinafter set forth in this Deposit Agreement, for the deposit of Shares (as hereinafter\\ndefined) of the Issuer from time to time with the Depositary or with the Custodian (as hereinafter defined) as agent of the Depositary for\\nthe purposes set forth in this Deposit Agreement, for the creation of American Depositary Shares (as hereinafter defined) representing the\\nShares so deposited and for the execution and delivery of American Depositary Receipts evidencing the American Depositary Shares; and?\\n\\n\\nQuestion: \\n Get information on Risk Factors from MIZUHO_FINANCIAL_GROUP_1.pdf \\n\\n\\nConfidence Score: 100%\\n\\nAnswer: The context of the provided document does not include specific information on risk factors related to Mizuho Financial Group, Inc. However, there are provisions in the Deposit Agreement that address compliance with U.S. securities laws and submission to jurisdiction in New York. Violations of these provisions could potentially lead to risks for the investors. Additionally, the Company Law of Japan is referenced throughout the agreement, and any changes to that'}\n"
     ]
    }
   ],
   "source": [
    "\n",
    "question = \"Risk Factors\" + \" from \"+file_name1\n",
    "file1_response = chain({\"query\":question})\n",
    "\n",
    "question = \"Risk Factors\" + \" from \"+file_name2\n",
    "file2_response = chain({\"query\":question})\n",
    "\n",
    "print(file1_response)"
   ]
  },
  {
   "cell_type": "code",
   "execution_count": 74,
   "id": "4561475d-4552-4814-8b6d-02cfa45dff8e",
   "metadata": {
    "tags": []
   },
   "outputs": [],
   "source": [
    "def convert_to_json_reponse(str_input):\n",
    "    internal_json = '''\n",
    "        \"Question\":{},\n",
    "        \"Confidence Score\":{},\n",
    "        \"Answer\":{}\n",
    "    '''\n",
    "    # slicing question\n",
    "    sub1 = \"Question:\"\n",
    "    sub2 = \"Confidence Score:\"\n",
    " \n",
    "    # getting elements in between using split() and join()\n",
    "    question = ''.join(str_input.split(sub1)[1].split(sub2)[0]).strip()\n",
    "    question = \"\\\"\"+question+\"\\\"\"\n",
    "    \n",
    "    # slicing Confidence Score\n",
    "    sub1 = \"Confidence Score:\"\n",
    "    sub2 = \"Answer:\"\n",
    " \n",
    "    # getting elements in between using split() and join()\n",
    "    conf_score = ''.join(str_input.split(sub1)[1].split(sub2)[0]).strip()\n",
    "    conf_score = \"\\\"\"+conf_score+\"\\\"\"\n",
    "    \n",
    "    # slicing answer\n",
    "    sub1 = \"Answer:\"\n",
    " \n",
    "    # getting elements in between using split() and join()\n",
    "    answer = ''.join(str_input.split(sub1)[1]).strip()\n",
    "    answer = \"\\\"\"+answer+\"\\\"\"\n",
    "    \n",
    "    result = internal_json.format(question, conf_score, answer)\n",
    "    \n",
    "    result = \"{\"+result+\"}\"\n",
    "    \n",
    "    return result\n",
    "\n",
    "def slice_and_convert_to_json(file1_response, file2_response):\n",
    "    file1_response_result = file1_response.get(\"result\")\n",
    "    file2_response_result = file2_response.get(\"result\")\n",
    "\n",
    "    sub_str = \"Question:\"\n",
    "    \n",
    "    file1_response_output = \"Question:\\n\"\n",
    "    file2_response_output = \"Question:\\n\"\n",
    "\n",
    "    file1_response_output = file1_response_output + file1_response_result.rsplit(sub_str, 1)[1]\n",
    "    # print(response_file1_output)\n",
    "\n",
    "    # print(\"\\n\\n-------------------------\")\n",
    "    file2_response_output = file2_response_output + file2_response_result.rsplit(sub_str, 1)[1]\n",
    "    # print(response_file2_output)\n",
    "    \n",
    "    json_response = '''\n",
    "        \"{}\":{},\n",
    "        \"{}\":{}\n",
    "    '''\n",
    "\n",
    "    result = json_response.format(file_name1, convert_to_json_reponse(file1_response_output), file_name2, convert_to_json_reponse(file2_response_output))\n",
    "    result = \"{\"+result+\"}\"\n",
    "    \n",
    "    json_result = json.loads(result)\n",
    "\n",
    "    return json_result"
   ]
  },
  {
   "cell_type": "code",
   "execution_count": 75,
   "id": "e98529b2-a2b4-4ca1-bbd2-6ed6800c52da",
   "metadata": {
    "tags": []
   },
   "outputs": [
    {
     "name": "stdout",
     "output_type": "stream",
     "text": [
      "{'MIZUHO_FINANCIAL_GROUP_1.pdf': {'Question': 'Get information on Risk Factors from MIZUHO_FINANCIAL_GROUP_1.pdf', 'Confidence Score': '100%', 'Answer': 'The context of the provided document does not include specific information on risk factors related to Mizuho Financial Group, Inc. However, there are provisions in the Deposit Agreement that address compliance with U.S. securities laws and submission to jurisdiction in New York. Violations of these provisions could potentially lead to risks for the investors. Additionally, the Company Law of Japan is referenced throughout the agreement, and any changes to that'}, 'MIZUHO_FINANCIAL_GROUP_2.pdf': {'Question': 'Get information on Risk Factors from MIZUHO_FINANCIAL_GROUP_2.pdf', 'Confidence Score': '100%', 'Answer': 'The context does not directly provide information on risk factors related to Mizuho Financial Group, Inc. from the given MIZUHO_FINANCIAL_GROUP_2.pdf document. However, the context does mention a section (Section 22) in the Deposit Agreement that states both the Company and the Depositary agree not to permit the withdrawal or delivery of Deposited Securities in a manner which would viol'}}\n"
     ]
    }
   ],
   "source": [
    "print(slice_and_convert_to_json(file1_response, file2_response))"
   ]
  }
 ],
 "metadata": {
  "kernelspec": {
   "display_name": "conda_pytorch_p310",
   "language": "python",
   "name": "conda_pytorch_p310"
  },
  "language_info": {
   "codemirror_mode": {
    "name": "ipython",
    "version": 3
   },
   "file_extension": ".py",
   "mimetype": "text/x-python",
   "name": "python",
   "nbconvert_exporter": "python",
   "pygments_lexer": "ipython3",
   "version": "3.10.14"
  }
 },
 "nbformat": 4,
 "nbformat_minor": 5
}
