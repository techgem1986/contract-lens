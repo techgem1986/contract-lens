{
 "cells": [
  {
   "cell_type": "code",
   "execution_count": 6,
   "id": "3dfebb75-5dbf-427d-a7d3-51f42f29c462",
   "metadata": {
    "collapsed": true,
    "jupyter": {
     "outputs_hidden": true
    },
    "tags": []
   },
   "outputs": [
    {
     "name": "stderr",
     "output_type": "stream",
     "text": [
      "huggingface/tokenizers: The current process just got forked, after parallelism has already been used. Disabling parallelism to avoid deadlocks...\n",
      "To disable this warning, you can either:\n",
      "\t- Avoid using `tokenizers` before the fork if possible\n",
      "\t- Explicitly set the environment variable TOKENIZERS_PARALLELISM=(true | false)\n"
     ]
    },
    {
     "name": "stdout",
     "output_type": "stream",
     "text": [
      "Requirement already satisfied: langchain in /home/ec2-user/anaconda3/envs/pytorch_p310/lib/python3.10/site-packages (0.2.6)\n",
      "Requirement already satisfied: PyYAML>=5.3 in /home/ec2-user/anaconda3/envs/pytorch_p310/lib/python3.10/site-packages (from langchain) (6.0.1)\n",
      "Requirement already satisfied: SQLAlchemy<3,>=1.4 in /home/ec2-user/anaconda3/envs/pytorch_p310/lib/python3.10/site-packages (from langchain) (2.0.31)\n",
      "Requirement already satisfied: aiohttp<4.0.0,>=3.8.3 in /home/ec2-user/anaconda3/envs/pytorch_p310/lib/python3.10/site-packages (from langchain) (3.9.5)\n",
      "Requirement already satisfied: async-timeout<5.0.0,>=4.0.0 in /home/ec2-user/anaconda3/envs/pytorch_p310/lib/python3.10/site-packages (from langchain) (4.0.3)\n",
      "Requirement already satisfied: langchain-core<0.3.0,>=0.2.10 in /home/ec2-user/anaconda3/envs/pytorch_p310/lib/python3.10/site-packages (from langchain) (0.2.10)\n",
      "Requirement already satisfied: langchain-text-splitters<0.3.0,>=0.2.0 in /home/ec2-user/anaconda3/envs/pytorch_p310/lib/python3.10/site-packages (from langchain) (0.2.2)\n",
      "Requirement already satisfied: langsmith<0.2.0,>=0.1.17 in /home/ec2-user/anaconda3/envs/pytorch_p310/lib/python3.10/site-packages (from langchain) (0.1.82)\n",
      "Requirement already satisfied: numpy<2,>=1 in /home/ec2-user/anaconda3/envs/pytorch_p310/lib/python3.10/site-packages (from langchain) (1.26.4)\n",
      "Requirement already satisfied: pydantic<3,>=1 in /home/ec2-user/anaconda3/envs/pytorch_p310/lib/python3.10/site-packages (from langchain) (2.6.4)\n",
      "Requirement already satisfied: requests<3,>=2 in /home/ec2-user/anaconda3/envs/pytorch_p310/lib/python3.10/site-packages (from langchain) (2.31.0)\n",
      "Requirement already satisfied: tenacity!=8.4.0,<9.0.0,>=8.1.0 in /home/ec2-user/anaconda3/envs/pytorch_p310/lib/python3.10/site-packages (from langchain) (8.2.3)\n",
      "Requirement already satisfied: aiosignal>=1.1.2 in /home/ec2-user/anaconda3/envs/pytorch_p310/lib/python3.10/site-packages (from aiohttp<4.0.0,>=3.8.3->langchain) (1.3.1)\n",
      "Requirement already satisfied: attrs>=17.3.0 in /home/ec2-user/anaconda3/envs/pytorch_p310/lib/python3.10/site-packages (from aiohttp<4.0.0,>=3.8.3->langchain) (23.2.0)\n",
      "Requirement already satisfied: frozenlist>=1.1.1 in /home/ec2-user/anaconda3/envs/pytorch_p310/lib/python3.10/site-packages (from aiohttp<4.0.0,>=3.8.3->langchain) (1.4.1)\n",
      "Requirement already satisfied: multidict<7.0,>=4.5 in /home/ec2-user/anaconda3/envs/pytorch_p310/lib/python3.10/site-packages (from aiohttp<4.0.0,>=3.8.3->langchain) (6.0.5)\n",
      "Requirement already satisfied: yarl<2.0,>=1.0 in /home/ec2-user/anaconda3/envs/pytorch_p310/lib/python3.10/site-packages (from aiohttp<4.0.0,>=3.8.3->langchain) (1.9.4)\n",
      "Requirement already satisfied: jsonpatch<2.0,>=1.33 in /home/ec2-user/anaconda3/envs/pytorch_p310/lib/python3.10/site-packages (from langchain-core<0.3.0,>=0.2.10->langchain) (1.33)\n",
      "Requirement already satisfied: packaging<25,>=23.2 in /home/ec2-user/anaconda3/envs/pytorch_p310/lib/python3.10/site-packages (from langchain-core<0.3.0,>=0.2.10->langchain) (24.1)\n",
      "Requirement already satisfied: orjson<4.0.0,>=3.9.14 in /home/ec2-user/anaconda3/envs/pytorch_p310/lib/python3.10/site-packages (from langsmith<0.2.0,>=0.1.17->langchain) (3.10.5)\n",
      "Requirement already satisfied: annotated-types>=0.4.0 in /home/ec2-user/anaconda3/envs/pytorch_p310/lib/python3.10/site-packages (from pydantic<3,>=1->langchain) (0.6.0)\n",
      "Requirement already satisfied: pydantic-core==2.16.3 in /home/ec2-user/anaconda3/envs/pytorch_p310/lib/python3.10/site-packages (from pydantic<3,>=1->langchain) (2.16.3)\n",
      "Requirement already satisfied: typing-extensions>=4.6.1 in /home/ec2-user/anaconda3/envs/pytorch_p310/lib/python3.10/site-packages (from pydantic<3,>=1->langchain) (4.10.0)\n",
      "Requirement already satisfied: charset-normalizer<4,>=2 in /home/ec2-user/anaconda3/envs/pytorch_p310/lib/python3.10/site-packages (from requests<3,>=2->langchain) (3.3.2)\n",
      "Requirement already satisfied: idna<4,>=2.5 in /home/ec2-user/anaconda3/envs/pytorch_p310/lib/python3.10/site-packages (from requests<3,>=2->langchain) (3.6)\n",
      "Requirement already satisfied: urllib3<3,>=1.21.1 in /home/ec2-user/anaconda3/envs/pytorch_p310/lib/python3.10/site-packages (from requests<3,>=2->langchain) (2.2.1)\n",
      "Requirement already satisfied: certifi>=2017.4.17 in /home/ec2-user/anaconda3/envs/pytorch_p310/lib/python3.10/site-packages (from requests<3,>=2->langchain) (2024.2.2)\n",
      "Requirement already satisfied: greenlet!=0.4.17 in /home/ec2-user/anaconda3/envs/pytorch_p310/lib/python3.10/site-packages (from SQLAlchemy<3,>=1.4->langchain) (3.0.3)\n",
      "Requirement already satisfied: jsonpointer>=1.9 in /home/ec2-user/anaconda3/envs/pytorch_p310/lib/python3.10/site-packages (from jsonpatch<2.0,>=1.33->langchain-core<0.3.0,>=0.2.10->langchain) (2.4)\n"
     ]
    },
    {
     "name": "stderr",
     "output_type": "stream",
     "text": [
      "huggingface/tokenizers: The current process just got forked, after parallelism has already been used. Disabling parallelism to avoid deadlocks...\n",
      "To disable this warning, you can either:\n",
      "\t- Avoid using `tokenizers` before the fork if possible\n",
      "\t- Explicitly set the environment variable TOKENIZERS_PARALLELISM=(true | false)\n"
     ]
    },
    {
     "name": "stdout",
     "output_type": "stream",
     "text": [
      "Requirement already satisfied: langchain-community in /home/ec2-user/anaconda3/envs/pytorch_p310/lib/python3.10/site-packages (0.2.6)\n",
      "Requirement already satisfied: PyYAML>=5.3 in /home/ec2-user/anaconda3/envs/pytorch_p310/lib/python3.10/site-packages (from langchain-community) (6.0.1)\n",
      "Requirement already satisfied: SQLAlchemy<3,>=1.4 in /home/ec2-user/anaconda3/envs/pytorch_p310/lib/python3.10/site-packages (from langchain-community) (2.0.31)\n",
      "Requirement already satisfied: aiohttp<4.0.0,>=3.8.3 in /home/ec2-user/anaconda3/envs/pytorch_p310/lib/python3.10/site-packages (from langchain-community) (3.9.5)\n",
      "Requirement already satisfied: dataclasses-json<0.7,>=0.5.7 in /home/ec2-user/anaconda3/envs/pytorch_p310/lib/python3.10/site-packages (from langchain-community) (0.6.7)\n",
      "Requirement already satisfied: langchain<0.3.0,>=0.2.6 in /home/ec2-user/anaconda3/envs/pytorch_p310/lib/python3.10/site-packages (from langchain-community) (0.2.6)\n",
      "Requirement already satisfied: langchain-core<0.3.0,>=0.2.10 in /home/ec2-user/anaconda3/envs/pytorch_p310/lib/python3.10/site-packages (from langchain-community) (0.2.10)\n",
      "Requirement already satisfied: langsmith<0.2.0,>=0.1.0 in /home/ec2-user/anaconda3/envs/pytorch_p310/lib/python3.10/site-packages (from langchain-community) (0.1.82)\n",
      "Requirement already satisfied: numpy<2,>=1 in /home/ec2-user/anaconda3/envs/pytorch_p310/lib/python3.10/site-packages (from langchain-community) (1.26.4)\n",
      "Requirement already satisfied: requests<3,>=2 in /home/ec2-user/anaconda3/envs/pytorch_p310/lib/python3.10/site-packages (from langchain-community) (2.31.0)\n",
      "Requirement already satisfied: tenacity!=8.4.0,<9.0.0,>=8.1.0 in /home/ec2-user/anaconda3/envs/pytorch_p310/lib/python3.10/site-packages (from langchain-community) (8.2.3)\n",
      "Requirement already satisfied: aiosignal>=1.1.2 in /home/ec2-user/anaconda3/envs/pytorch_p310/lib/python3.10/site-packages (from aiohttp<4.0.0,>=3.8.3->langchain-community) (1.3.1)\n",
      "Requirement already satisfied: attrs>=17.3.0 in /home/ec2-user/anaconda3/envs/pytorch_p310/lib/python3.10/site-packages (from aiohttp<4.0.0,>=3.8.3->langchain-community) (23.2.0)\n",
      "Requirement already satisfied: frozenlist>=1.1.1 in /home/ec2-user/anaconda3/envs/pytorch_p310/lib/python3.10/site-packages (from aiohttp<4.0.0,>=3.8.3->langchain-community) (1.4.1)\n",
      "Requirement already satisfied: multidict<7.0,>=4.5 in /home/ec2-user/anaconda3/envs/pytorch_p310/lib/python3.10/site-packages (from aiohttp<4.0.0,>=3.8.3->langchain-community) (6.0.5)\n",
      "Requirement already satisfied: yarl<2.0,>=1.0 in /home/ec2-user/anaconda3/envs/pytorch_p310/lib/python3.10/site-packages (from aiohttp<4.0.0,>=3.8.3->langchain-community) (1.9.4)\n",
      "Requirement already satisfied: async-timeout<5.0,>=4.0 in /home/ec2-user/anaconda3/envs/pytorch_p310/lib/python3.10/site-packages (from aiohttp<4.0.0,>=3.8.3->langchain-community) (4.0.3)\n",
      "Requirement already satisfied: marshmallow<4.0.0,>=3.18.0 in /home/ec2-user/anaconda3/envs/pytorch_p310/lib/python3.10/site-packages (from dataclasses-json<0.7,>=0.5.7->langchain-community) (3.21.3)\n",
      "Requirement already satisfied: typing-inspect<1,>=0.4.0 in /home/ec2-user/anaconda3/envs/pytorch_p310/lib/python3.10/site-packages (from dataclasses-json<0.7,>=0.5.7->langchain-community) (0.9.0)\n",
      "Requirement already satisfied: langchain-text-splitters<0.3.0,>=0.2.0 in /home/ec2-user/anaconda3/envs/pytorch_p310/lib/python3.10/site-packages (from langchain<0.3.0,>=0.2.6->langchain-community) (0.2.2)\n",
      "Requirement already satisfied: pydantic<3,>=1 in /home/ec2-user/anaconda3/envs/pytorch_p310/lib/python3.10/site-packages (from langchain<0.3.0,>=0.2.6->langchain-community) (2.6.4)\n",
      "Requirement already satisfied: jsonpatch<2.0,>=1.33 in /home/ec2-user/anaconda3/envs/pytorch_p310/lib/python3.10/site-packages (from langchain-core<0.3.0,>=0.2.10->langchain-community) (1.33)\n",
      "Requirement already satisfied: packaging<25,>=23.2 in /home/ec2-user/anaconda3/envs/pytorch_p310/lib/python3.10/site-packages (from langchain-core<0.3.0,>=0.2.10->langchain-community) (24.1)\n",
      "Requirement already satisfied: orjson<4.0.0,>=3.9.14 in /home/ec2-user/anaconda3/envs/pytorch_p310/lib/python3.10/site-packages (from langsmith<0.2.0,>=0.1.0->langchain-community) (3.10.5)\n",
      "Requirement already satisfied: charset-normalizer<4,>=2 in /home/ec2-user/anaconda3/envs/pytorch_p310/lib/python3.10/site-packages (from requests<3,>=2->langchain-community) (3.3.2)\n",
      "Requirement already satisfied: idna<4,>=2.5 in /home/ec2-user/anaconda3/envs/pytorch_p310/lib/python3.10/site-packages (from requests<3,>=2->langchain-community) (3.6)\n",
      "Requirement already satisfied: urllib3<3,>=1.21.1 in /home/ec2-user/anaconda3/envs/pytorch_p310/lib/python3.10/site-packages (from requests<3,>=2->langchain-community) (2.2.1)\n",
      "Requirement already satisfied: certifi>=2017.4.17 in /home/ec2-user/anaconda3/envs/pytorch_p310/lib/python3.10/site-packages (from requests<3,>=2->langchain-community) (2024.2.2)\n",
      "Requirement already satisfied: typing-extensions>=4.6.0 in /home/ec2-user/anaconda3/envs/pytorch_p310/lib/python3.10/site-packages (from SQLAlchemy<3,>=1.4->langchain-community) (4.10.0)\n",
      "Requirement already satisfied: greenlet!=0.4.17 in /home/ec2-user/anaconda3/envs/pytorch_p310/lib/python3.10/site-packages (from SQLAlchemy<3,>=1.4->langchain-community) (3.0.3)\n",
      "Requirement already satisfied: jsonpointer>=1.9 in /home/ec2-user/anaconda3/envs/pytorch_p310/lib/python3.10/site-packages (from jsonpatch<2.0,>=1.33->langchain-core<0.3.0,>=0.2.10->langchain-community) (2.4)\n",
      "Requirement already satisfied: annotated-types>=0.4.0 in /home/ec2-user/anaconda3/envs/pytorch_p310/lib/python3.10/site-packages (from pydantic<3,>=1->langchain<0.3.0,>=0.2.6->langchain-community) (0.6.0)\n",
      "Requirement already satisfied: pydantic-core==2.16.3 in /home/ec2-user/anaconda3/envs/pytorch_p310/lib/python3.10/site-packages (from pydantic<3,>=1->langchain<0.3.0,>=0.2.6->langchain-community) (2.16.3)\n",
      "Requirement already satisfied: mypy-extensions>=0.3.0 in /home/ec2-user/anaconda3/envs/pytorch_p310/lib/python3.10/site-packages (from typing-inspect<1,>=0.4.0->dataclasses-json<0.7,>=0.5.7->langchain-community) (1.0.0)\n"
     ]
    },
    {
     "name": "stderr",
     "output_type": "stream",
     "text": [
      "huggingface/tokenizers: The current process just got forked, after parallelism has already been used. Disabling parallelism to avoid deadlocks...\n",
      "To disable this warning, you can either:\n",
      "\t- Avoid using `tokenizers` before the fork if possible\n",
      "\t- Explicitly set the environment variable TOKENIZERS_PARALLELISM=(true | false)\n"
     ]
    },
    {
     "name": "stdout",
     "output_type": "stream",
     "text": [
      "Requirement already satisfied: pypdf in /home/ec2-user/anaconda3/envs/pytorch_p310/lib/python3.10/site-packages (4.2.0)\n",
      "Requirement already satisfied: typing_extensions>=4.0 in /home/ec2-user/anaconda3/envs/pytorch_p310/lib/python3.10/site-packages (from pypdf) (4.10.0)\n"
     ]
    },
    {
     "name": "stderr",
     "output_type": "stream",
     "text": [
      "huggingface/tokenizers: The current process just got forked, after parallelism has already been used. Disabling parallelism to avoid deadlocks...\n",
      "To disable this warning, you can either:\n",
      "\t- Avoid using `tokenizers` before the fork if possible\n",
      "\t- Explicitly set the environment variable TOKENIZERS_PARALLELISM=(true | false)\n"
     ]
    },
    {
     "name": "stdout",
     "output_type": "stream",
     "text": [
      "Requirement already satisfied: sentence-transformers in /home/ec2-user/anaconda3/envs/pytorch_p310/lib/python3.10/site-packages (3.0.1)\n",
      "Requirement already satisfied: transformers<5.0.0,>=4.34.0 in /home/ec2-user/anaconda3/envs/pytorch_p310/lib/python3.10/site-packages (from sentence-transformers) (4.41.2)\n",
      "Requirement already satisfied: tqdm in /home/ec2-user/anaconda3/envs/pytorch_p310/lib/python3.10/site-packages (from sentence-transformers) (4.66.2)\n",
      "Requirement already satisfied: torch>=1.11.0 in /home/ec2-user/anaconda3/envs/pytorch_p310/lib/python3.10/site-packages (from sentence-transformers) (2.1.0)\n",
      "Requirement already satisfied: numpy in /home/ec2-user/anaconda3/envs/pytorch_p310/lib/python3.10/site-packages (from sentence-transformers) (1.26.4)\n",
      "Requirement already satisfied: scikit-learn in /home/ec2-user/anaconda3/envs/pytorch_p310/lib/python3.10/site-packages (from sentence-transformers) (1.4.1.post1)\n",
      "Requirement already satisfied: scipy in /home/ec2-user/anaconda3/envs/pytorch_p310/lib/python3.10/site-packages (from sentence-transformers) (1.12.0)\n",
      "Requirement already satisfied: huggingface-hub>=0.15.1 in /home/ec2-user/anaconda3/envs/pytorch_p310/lib/python3.10/site-packages (from sentence-transformers) (0.23.4)\n",
      "Requirement already satisfied: Pillow in /home/ec2-user/anaconda3/envs/pytorch_p310/lib/python3.10/site-packages (from sentence-transformers) (10.2.0)\n",
      "Requirement already satisfied: filelock in /home/ec2-user/anaconda3/envs/pytorch_p310/lib/python3.10/site-packages (from huggingface-hub>=0.15.1->sentence-transformers) (3.13.3)\n",
      "Requirement already satisfied: fsspec>=2023.5.0 in /home/ec2-user/anaconda3/envs/pytorch_p310/lib/python3.10/site-packages (from huggingface-hub>=0.15.1->sentence-transformers) (2024.3.1)\n",
      "Requirement already satisfied: packaging>=20.9 in /home/ec2-user/anaconda3/envs/pytorch_p310/lib/python3.10/site-packages (from huggingface-hub>=0.15.1->sentence-transformers) (24.1)\n",
      "Requirement already satisfied: pyyaml>=5.1 in /home/ec2-user/anaconda3/envs/pytorch_p310/lib/python3.10/site-packages (from huggingface-hub>=0.15.1->sentence-transformers) (6.0.1)\n",
      "Requirement already satisfied: requests in /home/ec2-user/anaconda3/envs/pytorch_p310/lib/python3.10/site-packages (from huggingface-hub>=0.15.1->sentence-transformers) (2.31.0)\n",
      "Requirement already satisfied: typing-extensions>=3.7.4.3 in /home/ec2-user/anaconda3/envs/pytorch_p310/lib/python3.10/site-packages (from huggingface-hub>=0.15.1->sentence-transformers) (4.10.0)\n",
      "Requirement already satisfied: sympy in /home/ec2-user/anaconda3/envs/pytorch_p310/lib/python3.10/site-packages (from torch>=1.11.0->sentence-transformers) (1.12)\n",
      "Requirement already satisfied: networkx in /home/ec2-user/anaconda3/envs/pytorch_p310/lib/python3.10/site-packages (from torch>=1.11.0->sentence-transformers) (3.2.1)\n",
      "Requirement already satisfied: jinja2 in /home/ec2-user/anaconda3/envs/pytorch_p310/lib/python3.10/site-packages (from torch>=1.11.0->sentence-transformers) (3.1.3)\n",
      "Requirement already satisfied: regex!=2019.12.17 in /home/ec2-user/anaconda3/envs/pytorch_p310/lib/python3.10/site-packages (from transformers<5.0.0,>=4.34.0->sentence-transformers) (2024.5.15)\n",
      "Requirement already satisfied: tokenizers<0.20,>=0.19 in /home/ec2-user/anaconda3/envs/pytorch_p310/lib/python3.10/site-packages (from transformers<5.0.0,>=4.34.0->sentence-transformers) (0.19.1)\n",
      "Requirement already satisfied: safetensors>=0.4.1 in /home/ec2-user/anaconda3/envs/pytorch_p310/lib/python3.10/site-packages (from transformers<5.0.0,>=4.34.0->sentence-transformers) (0.4.3)\n",
      "Requirement already satisfied: joblib>=1.2.0 in /home/ec2-user/anaconda3/envs/pytorch_p310/lib/python3.10/site-packages (from scikit-learn->sentence-transformers) (1.3.2)\n",
      "Requirement already satisfied: threadpoolctl>=2.0.0 in /home/ec2-user/anaconda3/envs/pytorch_p310/lib/python3.10/site-packages (from scikit-learn->sentence-transformers) (3.4.0)\n",
      "Requirement already satisfied: MarkupSafe>=2.0 in /home/ec2-user/anaconda3/envs/pytorch_p310/lib/python3.10/site-packages (from jinja2->torch>=1.11.0->sentence-transformers) (2.1.5)\n",
      "Requirement already satisfied: charset-normalizer<4,>=2 in /home/ec2-user/anaconda3/envs/pytorch_p310/lib/python3.10/site-packages (from requests->huggingface-hub>=0.15.1->sentence-transformers) (3.3.2)\n",
      "Requirement already satisfied: idna<4,>=2.5 in /home/ec2-user/anaconda3/envs/pytorch_p310/lib/python3.10/site-packages (from requests->huggingface-hub>=0.15.1->sentence-transformers) (3.6)\n",
      "Requirement already satisfied: urllib3<3,>=1.21.1 in /home/ec2-user/anaconda3/envs/pytorch_p310/lib/python3.10/site-packages (from requests->huggingface-hub>=0.15.1->sentence-transformers) (2.2.1)\n",
      "Requirement already satisfied: certifi>=2017.4.17 in /home/ec2-user/anaconda3/envs/pytorch_p310/lib/python3.10/site-packages (from requests->huggingface-hub>=0.15.1->sentence-transformers) (2024.2.2)\n",
      "Requirement already satisfied: mpmath>=0.19 in /home/ec2-user/anaconda3/envs/pytorch_p310/lib/python3.10/site-packages (from sympy->torch>=1.11.0->sentence-transformers) (1.3.0)\n"
     ]
    },
    {
     "name": "stderr",
     "output_type": "stream",
     "text": [
      "huggingface/tokenizers: The current process just got forked, after parallelism has already been used. Disabling parallelism to avoid deadlocks...\n",
      "To disable this warning, you can either:\n",
      "\t- Avoid using `tokenizers` before the fork if possible\n",
      "\t- Explicitly set the environment variable TOKENIZERS_PARALLELISM=(true | false)\n"
     ]
    },
    {
     "name": "stdout",
     "output_type": "stream",
     "text": [
      "Collecting faiss-cpu\n",
      "  Downloading faiss_cpu-1.8.0.post1-cp310-cp310-manylinux_2_17_x86_64.manylinux2014_x86_64.whl.metadata (3.7 kB)\n",
      "Requirement already satisfied: numpy<2.0,>=1.0 in /home/ec2-user/anaconda3/envs/pytorch_p310/lib/python3.10/site-packages (from faiss-cpu) (1.26.4)\n",
      "Requirement already satisfied: packaging in /home/ec2-user/anaconda3/envs/pytorch_p310/lib/python3.10/site-packages (from faiss-cpu) (24.1)\n",
      "Downloading faiss_cpu-1.8.0.post1-cp310-cp310-manylinux_2_17_x86_64.manylinux2014_x86_64.whl (27.0 MB)\n",
      "\u001b[2K   \u001b[90m━━━━━━━━━━━━━━━━━━━━━━━━━━━━━━━━━━━━━━━━\u001b[0m \u001b[32m27.0/27.0 MB\u001b[0m \u001b[31m14.5 MB/s\u001b[0m eta \u001b[36m0:00:00\u001b[0m00:01\u001b[0m00:01\u001b[0m\n",
      "\u001b[?25hInstalling collected packages: faiss-cpu\n",
      "Successfully installed faiss-cpu-1.8.0.post1\n"
     ]
    }
   ],
   "source": [
    "!pip install langchain\n",
    "!pip install langchain-community\n",
    "!pip install pypdf\n",
    "!pip install sentence-transformers\n",
    "!pip install faiss-cpu"
   ]
  },
  {
   "cell_type": "code",
   "execution_count": 34,
   "id": "ef705e72-965b-4a99-a1fe-22071fe952a9",
   "metadata": {
    "tags": []
   },
   "outputs": [],
   "source": [
    "import os\n",
    "import json\n",
    "import boto3\n",
    "from langchain.document_loaders import PyPDFLoader\n",
    "from langchain.text_splitter import RecursiveCharacterTextSplitter\n",
    "from langchain.vectorstores import FAISS\n",
    "from langchain.embeddings import HuggingFaceEmbeddings\n",
    "from transformers import AutoTokenizer, GenerationConfig, AutoModelForCausalLM\n",
    "from langchain_community.llms import HuggingFacePipeline\n",
    "from langchain_community.llms import SagemakerEndpoint\n",
    "from langchain_community.llms.sagemaker_endpoint import LLMContentHandler\n",
    "from typing import Dict\n",
    "from langchain.prompts import PromptTemplate\n",
    "from langchain.chains import RetrievalQA\n",
    "\n",
    "\n",
    "import warnings\n",
    "warnings.filterwarnings('ignore')"
   ]
  },
  {
   "cell_type": "code",
   "execution_count": 37,
   "id": "6d7109f0-0ae9-46a8-9a0f-f82a4b7649a6",
   "metadata": {
    "tags": []
   },
   "outputs": [
    {
     "name": "stdout",
     "output_type": "stream",
     "text": [
      "51\n"
     ]
    }
   ],
   "source": [
    "# loaders = [\n",
    "#     PyPDFLoader(\"docs/uber_2021.pdf\"),\n",
    "#     PyPDFLoader(\"docs/lyft_2021.pdf\")\n",
    "# ]\n",
    "\n",
    "loaders = [\n",
    "    PyPDFLoader(\"docs/MIZUHO_FINANCIAL_GROUP_1.pdf\"),\n",
    "    PyPDFLoader(\"docs/MIZUHO_FINANCIAL_GROUP_2.pdf\")\n",
    "]\n",
    "\n",
    "docs = []\n",
    "for loader in loaders:\n",
    "    docs.extend(loader.load())\n",
    "    \n",
    "print(len(docs))"
   ]
  },
  {
   "cell_type": "code",
   "execution_count": 38,
   "id": "c6b67543-e1e5-400f-bc89-83500e02066e",
   "metadata": {
    "tags": []
   },
   "outputs": [
    {
     "name": "stdout",
     "output_type": "stream",
     "text": [
      "Done\n"
     ]
    }
   ],
   "source": [
    "text_splitter = RecursiveCharacterTextSplitter(\n",
    "    chunk_size = 1500,\n",
    "    chunk_overlap = 150\n",
    ")\n",
    "\n",
    "splits = text_splitter.split_documents(docs)\n",
    "print(\"Done\")"
   ]
  },
  {
   "cell_type": "code",
   "execution_count": 39,
   "id": "f308f8b8-4187-4d45-89c3-6de9231c22f9",
   "metadata": {
    "tags": []
   },
   "outputs": [
    {
     "name": "stdout",
     "output_type": "stream",
     "text": [
      "Done\n"
     ]
    }
   ],
   "source": [
    "embedding = HuggingFaceEmbeddings(model_name=\"all-MiniLM-L6-v2\")\n",
    "\n",
    "vector_db = FAISS.from_documents(documents=splits, embedding=embedding)\n",
    "print(\"Done\")"
   ]
  },
  {
   "cell_type": "code",
   "execution_count": 211,
   "id": "3ec731f9-97c7-4e69-abe0-0e76b642750b",
   "metadata": {
    "tags": []
   },
   "outputs": [
    {
     "name": "stdout",
     "output_type": "stream",
     "text": [
      "Done\n"
     ]
    }
   ],
   "source": [
    "class ContentHandler(LLMContentHandler):\n",
    "    content_type = \"application/json\"\n",
    "    accepts = \"application/json\"\n",
    "\n",
    "    def transform_input(self, prompt: str, model_kwargs: Dict) -> bytes:\n",
    "        input_str = json.dumps({\"inputs\": prompt, \"parameters\": model_kwargs})\n",
    "        return input_str.encode(\"utf-8\")\n",
    "\n",
    "    def transform_output(self, output: bytes) -> str:\n",
    "        response_json = json.loads(output.read().decode(\"utf-8\"))\n",
    "        return response_json[0][\"generated_text\"]\n",
    "\n",
    "\n",
    "content_handler = ContentHandler()\n",
    "\n",
    "runtime = boto3.client(\"runtime.sagemaker\")\n",
    "\n",
    "llm=SagemakerEndpoint(\n",
    "        endpoint_name=\"mistral-llm\",\n",
    "        client=runtime,\n",
    "        model_kwargs={\"temperature\": 0.5, \"max_new_tokens\":750},\n",
    "        content_handler=content_handler\n",
    "    )\n",
    "print(\"Done\")"
   ]
  },
  {
   "cell_type": "code",
   "execution_count": 233,
   "id": "fb6a9fdb-b0be-44af-bd63-b2d3c313a230",
   "metadata": {
    "tags": []
   },
   "outputs": [
    {
     "name": "stdout",
     "output_type": "stream",
     "text": [
      "Done\n"
     ]
    }
   ],
   "source": [
    "\n",
    "template = \"\"\"\n",
    "You are expert in comparing two PDFs. \n",
    "Answer the question as detailed as possible from the provided context, make sure to provide all the details.\n",
    "If the answer is not in provided context just say, \"Answer is not available in the context.\", please don't provide the wrong answer.\n",
    "\n",
    "Provide Confidence Score as well.\n",
    "\n",
    "Context:\\n {context}?\\n\n",
    "Question: \\nCompare and list out similarities and differences of contracts based on {question}.\\n\n",
    "\n",
    "Confidence Score:\n",
    "\"\"\"\n",
    "\n",
    "prompt = PromptTemplate(template = template, input_variables = [\"context\", \"question\"])\n",
    "\n",
    "chain = RetrievalQA.from_chain_type(\n",
    "    llm = llm,\n",
    "    retriever = vector_db.as_retriever(search_kwargs={\"k\":12}),\n",
    "    return_source_documents=False,\n",
    "    chain_type = \"stuff\",\n",
    "    chain_type_kwargs={\"prompt\":prompt}\n",
    ")\n",
    "print(\"Done\")"
   ]
  },
  {
   "cell_type": "code",
   "execution_count": 234,
   "id": "6087c712-71ad-40cf-ab02-c0635b60dcbe",
   "metadata": {
    "tags": []
   },
   "outputs": [
    {
     "name": "stdout",
     "output_type": "stream",
     "text": [
      "{'query': 'record dates', 'result': '\\nYou are master in comparing two PDFs. \\nAnswer the question as detailed as possible from the provided context, make sure to provide all the details.\\nIf the answer is not in provided context just say, \"Answer is not available in the context.\", please don\\'t provide the wrong answer.\\n\\nProvide Confidence Score as well.\\n\\nContext:\\n SECTION 4.6 Fixing of Record Date .\\nWhenever any cash dividend or other cash distribution shall become payable or any distribution other than cash shall be made, or\\nwhenever rights shall be issued with respect to the Deposited Securities, or whenever the Depositary shall receive notice of any meeting of\\nholders of Shares or other Deposited Securities, or whenever for any reason the Depositary causes a change in the number of Shares that\\nare represented by each American Depositary Share, or whenever the Depositary shall find it necessary or convenient, the Depositary shall\\nfix a record date (a) for the determination of the Owners who shall be (i) entitled to receive such dividend, distribution or rights or the net\\nproceeds of the sale thereof, (ii) entitled to give instructions for the exercise of voting rights at any such meeting or (iii) responsible for any\\nfee assessed by the Depositary pursuant to this Deposit Agreement, or (b) on or after which each American Depositary Share will represent\\nthe changed number of Shares. Subject to the provisions of Sections 4.1 through 4.5 and to the other terms and conditions of this Deposit\\nAgreement, the Owners on such record date shall be entitled, as the case may be, to receive the amount distributable by the Depositary\\nwith respect to such dividend or other distribution or such rights or the net proceeds of sale thereof in proportion to the number of\\n\\nare represented by each American Depositary Share, or whenever the Depositary shall find it necessary or convenient, the Depositary shall\\nfix a record date (a) for the determination of the Owners of Receipts who shall be (i) entitled to receive such dividend, distribution or rights\\nor the net proceeds of the sale thereof, (ii) entitled to give instructions for the exercise of voting rights at any such meeting, or\\n(iii) responsible for any fee assessed by the Depositary pursuant to the Deposit Agreement, or (b) on or after which each American\\nDepositary Share will represent the changed number of Shares, subject to the provisions of the Deposit Agreement.\\n \\n8\\n\\nare represented by each American Depositary Share, or whenever the Depositary shall find it necessary or convenient, the Depositary shall\\nfix a record date (a) for the determination of the Owners of Receipts who shall be (i) entitled to receive such dividend, distribution or rights\\nor the net proceeds of the sale thereof, (ii) entitled to give instructions for the exercise of voting rights at any such meeting, or\\n(iii) responsible for any fee assessed by the Depositary pursuant to the Deposit Agreement, or (b) on or after which each American\\nDepositary Share will represent the changed number of Shares, subject to the provisions of the Deposit Agreement.\\n \\n8\\n\\nhave been appointed and such Receipts are countersigned by the manual signature of a duly authorized of ficer of the Registrar . The\\nDepositary shall maintain books on which each Receipt so executed and delivered as hereinafter provided and the transfer of each such\\nReceipt shall be registered. Receipts bearing the manual or facsimile signature of a duly authorized signatory of the Depositary who was at\\nany time a proper signatory of the Depositary shall bind the Depositary , notwithstanding that such signatory has ceased to hold such of fice\\nprior to the execution and delivery of such Receipts by the Registrar or did not hold such of fice on the date of issuance of such Receipts.\\n \\n3\\n\\nbound by the Deposit Agreement as amended thereby . In no event shall any amendment impair the right of the Owner of any Receipt to\\nsurrender such Receipt and receive therefor the Deposited Securities represented thereby , except in order to comply with mandatory\\nprovisions of applicable law .\\nSECTION 6.2 Termination .\\nThe Depositary shall, at any time at the direction of the Issuer , terminate this Deposit Agreement by mailing notice of such\\ntermination to the Owners of all Receipts then outstanding at least 60 days prior to the date fixed in such notice for such termination. The\\nDepositary may likewise terminate this Deposit Agreement by mailing notice of such termination to the Issuer and the Owners of all\\nReceipts then outstanding at least 30 days prior to the date of termination, if at any time 90 days shall have expired after the Depositary\\nshall have delivered to the\\n \\n19\\n\\nthe Depositary , disposing of such Shares or Receipts, as the case may be), other than in satisfaction of such Pre-Release, (b) at all times\\nfully collateralized with cash, U.S. government securities or such other collateral as the Depositary determines, in good faith, will provide\\nsubstantially similar liquidity and security , (c) terminable by the Depositary on not more than five (5) business days notice, and (d) subject\\nto such further indemnities and credit regulations as the Depositary deems appropriate. The number of Shares not deposited but\\nrepresented by American Depositary Shares outstanding at any time as a result of Pre-Releases will not normally\\n \\n7\\n\\nauthorized signatory of the Depositary; provided , however  that such signature may be a facsimile if a Registrar for the Receipts shall have\\nbeen appointed and such Receipts are countersigned by the manual signature of a duly authorized of ficer of the Registrar .\\n11. REPOR TS; INSPECTION OF  TRANSFER BOOKS .\\nThe Company is subject to the periodic reporting requirements of the Securities Exchange Act of 1934 and, accordingly , files certain\\nreports with the Securities and Exchange Commission. Such reports will be available for inspection and copying at the public reference\\nfacilities maintained by the Commission located at 100 F Street, N.E., Washington, D.C. 20549.\\nThe Depositary will make available for inspection by Owners of Receipts at its Corporate Trust Of fice any reports and\\ncommunications, including any proxy soliciting material, received from the Company which are both (a) received by the Depositary as the\\nholder of the Deposited Securities and (b) made generally available to the holders of such Deposited Securities by the Company . The\\nDepositary will also, upon written request, send to Owners of Receipts copies of such reports when furnished by the Company pursuant to\\nthe Deposit Agreement. Any such reports and communications, including any such proxy soliciting material, furnished to the Depositary\\nby the Company shall be furnished in English to the extent such materials are required to be translated into English pursuant to any\\nregulations of the Commission.\\n\\nauthorized signatory of the Depositary; provided , however  that such signature may be a facsimile if a Registrar for the Receipts shall have\\nbeen appointed and such Receipts are countersigned by the manual signature of a duly authorized of ficer of the Registrar .\\n11. REPOR TS; INSPECTION OF  TRANSFER BOOKS .\\nThe Company is subject to the periodic reporting requirements of the Securities Exchange Act of 1934 and, accordingly , files certain\\nreports with the Securities and Exchange Commission. Such reports will be available for inspection and copying at the public reference\\nfacilities maintained by the Commission located at 100 F Street, N.E., Washington, D.C. 20549.\\nThe Depositary will make available for inspection by Owners of Receipts at its Corporate Trust Of fice any reports and\\ncommunications, including any proxy soliciting material, received from the Company which are both (a) received by the Depositary as the\\nholder of the Deposited Securities and (b) made generally available to the holders of such Deposited Securities by the Company . The\\nDepositary will also, upon written request, send to Owners of Receipts copies of such reports when furnished by the Company pursuant to\\nthe Deposit Agreement. Any such reports and communications, including any such proxy soliciting material, furnished to the Depositary\\nby the Company shall be furnished in English to the extent such materials are required to be translated into English pursuant to any\\nregulations of the Commission.\\n\\nrequested in writing by the Issuer , the Depositary will arrange for the mailing, as promptly as practicable, at the Issuer ’s expense, of copies\\nof such notices, reports and communications to all Owners. The Issuer will timely provide the Depositary with the quantity of such notices,\\nreports, and communications, as requested by the Depositary from time to time, in order for the Depositary to ef fect such mailings.\\n \\n16\\n\\n1. THE DEPOSIT  AGREEMENT .\\nThis American Depositary Receipt is one of an issue (herein called “Receipts”), all issued and to be issued upon the terms and\\nconditions set forth in the deposit agreement, dated as of                     , 2006 (herein called the “Deposit Agreement”), by and among the\\nCompany , the Depositary , and all Owners and holders from time to time of Receipts issued thereunder , each of whom by accepting a\\nReceipt agrees to become a party thereto and become bound by all the terms and conditions thereof. The Deposit Agreement sets forth the\\nrights of Owners and holders of the Receipts and the rights and duties of the Depositary in respect of the Shares deposited thereunder and\\nany and all other securities, property and cash from time to time received in respect of such Shares and held thereunder (such Shares,\\nsecurities, property , and cash are herein called “Deposited Securities”). Copies of the Deposit Agreement are on file at the Depositary’ s\\nCorporate Trust Of fice in New York City and at the of fice of the Custodian.\\nThe statements made on the face and reverse of this Receipt are summaries of certain provisions of the Deposit Agreement and are\\nqualified by and subject to the detailed provisions of the Deposit Agreement, to which reference is hereby made. Capitalized terms defined\\nin the Deposit Agreement and not defined herein shall have the meanings set forth in the Deposit Agreement.\\n2. SURRENDER OF  RECEIPTS AND WITHDRA WAL OF SHARES .\\n\\n1. THE DEPOSIT  AGREEMENT .\\nThis American Depositary Receipt is one of an issue (herein called “Receipts”), all issued and to be issued upon the terms and\\nconditions set forth in the deposit agreement, dated as of                     , 2006 (herein called the “Deposit Agreement”), by and among the\\nCompany , the Depositary , and all Owners and holders from time to time of Receipts issued thereunder , each of whom by accepting a\\nReceipt agrees to become a party thereto and become bound by all the terms and conditions thereof. The Deposit Agreement sets forth the\\nrights of Owners and holders of the Receipts and the rights and duties of the Depositary in respect of the Shares deposited thereunder and\\nany and all other securities, property and cash from time to time received in respect of such Shares and held thereunder (such Shares,\\nsecurities, property , and cash are herein called “Deposited Securities”). Copies of the Deposit Agreement are on file at the Depositary’ s\\nCorporate Trust Of fice in New York City and at the of fice of the Custodian.\\nThe statements made on the face and reverse of this Receipt are summaries of certain provisions of the Deposit Agreement and are\\nqualified by and subject to the detailed provisions of the Deposit Agreement, to which reference is hereby made. Capitalized terms defined\\nin the Deposit Agreement and not defined herein shall have the meanings set forth in the Deposit Agreement.\\n2. SURRENDER OF  RECEIPTS AND WITHDRA WAL OF SHARES .\\n\\nAct; provided , that nothing in the Deposit Agreement shall create any obligation on the part of the Company to file a registration statement\\nwith respect to such rights or underlying securities or to endeavor to have such a registration statement declared ef fective. If an Owner of\\nReceipts requests the distribution of warrants or other instruments, notwithstanding that there has been no such registration under the\\nSecurities Act of 1933, the Depositary shall not ef fect such distribution unless it has received an opinion from recognized counsel in the\\nUnited States for the Company upon which the Depositary may rely that such distribution to such Owner is exempt from such registration.\\nThe Depositary shall not be responsible for any failure to determine that it may be lawful or feasible to make such rights available to\\nOwners in general or any Owner in particular .\\n15. RECORD DA TES .\\nWhenever any cash dividend or other cash distribution shall become payable or any distribution other than cash shall be made, or\\nwhenever rights shall be issued with respect to the Deposited Securities, or whenever the Depositary shall receive notice of any meeting of\\nholders of Shares or other Deposited Securities, or whenever for any reason the Depositary causes a change in the number of Shares that\\nare represented by each American Depositary Share, or whenever the Depositary shall find it necessary or convenient, the Depositary shall?\\n\\nQuestion: \\nCompare and list out similarities and differences of contracts based on record dates.\\n\\n\\nConfidence Score:\\n100%\\n\\nAnswer:\\nBoth contracts contain provisions regarding record dates for various events related to the American Depositary Shares (ADS) and the underlying Deposited Securities. The similarities include:\\n\\n1. The Depositary has the authority to fix a record date for various events, such as dividend or distribution payments, the issuance of rights, the determination of voting rights, and changes to the number of Shares represented by each ADS.\\n2. The owners of Receipts (holders of ADS) are entitled to receive dividends, distributions, or net proceeds of sales based on the number of ADS they own on the record date.\\n3. The owners are responsible for any fees assessed by the Depositary on or after the record date.\\n4. The provisions regarding record dates are subject to the terms and conditions of the Deposit Agreement.\\n\\nThe differences are:\\n\\n1. The first contract refers to the record date for the determination of the owners of Shares or other Deposited Securities, while the second contract mentions the record date for the owners of Receipts.\\n2. The first contract states that the owners on the record date are entitled to give instructions for the exercise of voting rights, while the second contract does not explicitly mention this.\\n3. The first contract states that the Receipts must be executed and delivered, and countersigned by a duly authorized officer of the Registrar, while the second contract does not have this requirement.\\n4. The first contract does not mention the termination of the Deposit Agreement, while the second contract includes provisions for termination.'}\n"
     ]
    }
   ],
   "source": [
    "\n",
    "question = \"record dates\"\n",
    "response = chain({\"query\":question})\n",
    "print(response)"
   ]
  },
  {
   "cell_type": "code",
   "execution_count": 245,
   "id": "24946723-6ac7-450d-a5e6-b772d49b8bc6",
   "metadata": {
    "tags": []
   },
   "outputs": [
    {
     "name": "stdout",
     "output_type": "stream",
     "text": [
      "Question:\n",
      " \n",
      "Compare and list out similarities and differences of contracts based on record dates.\n",
      "\n",
      "\n",
      "Confidence Score:\n",
      "100%\n",
      "\n",
      "Answer:\n",
      "Both contracts contain provisions regarding record dates for various events related to the American Depositary Shares (ADS) and the underlying Deposited Securities. The similarities include:\n",
      "\n",
      "1. The Depositary has the authority to fix a record date for various events, such as dividend or distribution payments, the issuance of rights, the determination of voting rights, and changes to the number of Shares represented by each ADS.\n",
      "2. The owners of Receipts (holders of ADS) are entitled to receive dividends, distributions, or net proceeds of sales based on the number of ADS they own on the record date.\n",
      "3. The owners are responsible for any fees assessed by the Depositary on or after the record date.\n",
      "4. The provisions regarding record dates are subject to the terms and conditions of the Deposit Agreement.\n",
      "\n",
      "The differences are:\n",
      "\n",
      "1. The first contract refers to the record date for the determination of the owners of Shares or other Deposited Securities, while the second contract mentions the record date for the owners of Receipts.\n",
      "2. The first contract states that the owners on the record date are entitled to give instructions for the exercise of voting rights, while the second contract does not explicitly mention this.\n",
      "3. The first contract states that the Receipts must be executed and delivered, and countersigned by a duly authorized officer of the Registrar, while the second contract does not have this requirement.\n",
      "4. The first contract does not mention the termination of the Deposit Agreement, while the second contract includes provisions for termination.\n"
     ]
    }
   ],
   "source": [
    "response_string = response.get(\"result\")\n",
    "# print (response_string)\n",
    "\n",
    "# are represented by each American Depositary Share, or whenever the Depositary shall find it necessary or convenient, the Depositary shall?\n",
    "## -------------- Slicing from here to get result ---------------\n",
    "# Question: \n",
    "# Compare and list out similarities and differences of contracts based on record dates.\n",
    "\n",
    "\n",
    "# Confidence Score:\n",
    "# 100%\n",
    "\n",
    "# Answer:\n",
    "# Both contracts contain provisions regarding record dates for various events related to the American Depositary Shares (ADS) and the underlying Deposited Securities. The similarities include:\n",
    "\n",
    "# 1. The Depositary has the authority to fix a record date for various events, such as dividend or distribution payments, the issuance of rights, the determination of voting rights, and changes to the number of Shares represented by each ADS.\n",
    "# 2. The owners of Receipts (holders of ADS) are entitled to receive dividends, distributions, or net proceeds of sales based on the number of ADS they own on the record date.\n",
    "# 3. The owners are responsible for any fees assessed by the Depositary on or after the record date.\n",
    "# 4. The provisions regarding record dates are subject to the terms and conditions of the Deposit Agreement.\n",
    "\n",
    "# The differences are:\n",
    "\n",
    "# 1. The first contract refers to the record date for the determination of the owners of Shares or other Deposited Securities, while the second contract mentions the record date for the owners of Receipts.\n",
    "# 2. The first contract states that the owners on the record date are entitled to give instructions for the exercise of voting rights, while the second contract does not explicitly mention this.\n",
    "# 3. The first contract states that the Receipts must be executed and delivered, and countersigned by a duly authorized officer of the Registrar, while the second contract does not have this requirement.\n",
    "# 4. The first contract does not mention the termination of the Deposit Agreement, while the second contract includes provisions for termination.\n",
    "\n",
    "output = \"Question:\\n\"\n",
    "\n",
    "sub1 = \"Question:\"\n",
    "output = output + response_string.rsplit(sub1, 1)[1]\n",
    "\n",
    "print(output)"
   ]
  }
 ],
 "metadata": {
  "kernelspec": {
   "display_name": "conda_pytorch_p310",
   "language": "python",
   "name": "conda_pytorch_p310"
  },
  "language_info": {
   "codemirror_mode": {
    "name": "ipython",
    "version": 3
   },
   "file_extension": ".py",
   "mimetype": "text/x-python",
   "name": "python",
   "nbconvert_exporter": "python",
   "pygments_lexer": "ipython3",
   "version": "3.10.14"
  }
 },
 "nbformat": 4,
 "nbformat_minor": 5
}
